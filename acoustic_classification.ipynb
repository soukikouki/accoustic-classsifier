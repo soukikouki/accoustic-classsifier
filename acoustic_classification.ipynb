{
  "nbformat": 4,
  "nbformat_minor": 0,
  "metadata": {
    "kernelspec": {
      "display_name": "TensorFlow-GPU",
      "language": "python",
      "name": "tf-gpu"
    },
    "language_info": {
      "codemirror_mode": {
        "name": "ipython",
        "version": 3
      },
      "file_extension": ".py",
      "mimetype": "text/x-python",
      "name": "python",
      "nbconvert_exporter": "python",
      "pygments_lexer": "ipython3",
      "version": "3.7.6"
    },
    "colab": {
      "provenance": []
    }
  },
  "cells": [
    {
      "cell_type": "code",
      "metadata": {
        "id": "CoLZGABDNke4"
      },
      "source": [
        "import numpy as np\n",
        "import matplotlib.pyplot as plt \n",
        "\n",
        "from sklearn import datasets\n",
        "import keras\n",
        "from keras.datasets import mnist\n",
        "from keras.models import Model\n",
        "from tensorflow.keras.models import Model\n",
        "from keras.models import Sequential\n",
        "from keras.layers import Dense\n",
        "from tensorflow.keras.optimizers import Adam\n",
        "from keras.models import Sequential\n",
        "from tensorflow.keras import layers\n",
        "from keras.layers import Dense, Dropout, Activation\n",
        "from keras.utils.np_utils import to_categorical\n",
        "import random\n",
        "from keras.layers import Dropout\n",
        "from sklearn.model_selection import train_test_split\n",
        "from keras.layers import Conv2D, MaxPooling2D, Flatten"
      ],
      "execution_count": null,
      "outputs": []
    },
    {
      "cell_type": "code",
      "metadata": {
        "colab": {
          "base_uri": "https://localhost:8080/"
        },
        "id": "aeewVuawONIH",
        "outputId": "04968411-2c05-4571-e751-d4c7d8f99887"
      },
      "source": [
        "from google.colab import drive\n",
        "drive.mount('/content/drive')"
      ],
      "execution_count": null,
      "outputs": [
        {
          "output_type": "stream",
          "name": "stdout",
          "text": [
            "Mounted at /content/drive\n"
          ]
        }
      ]
    },
    {
      "cell_type": "code",
      "metadata": {
        "id": "zDtOwEjQNkfH"
      },
      "source": [
        "import glob \n",
        "import os\n",
        "\n",
        "path= '/content/drive/MyDrive/scalo_morletDOCC10_1700files/TEST'\n",
        "path2 = '/content/drive/MyDrive/scalo_morletDOCC10_1700files/TEST'\n",
        "def load_all_npy_files(directory):\n",
        "   \n",
        "    file_names = list(map(lambda p: os.path.splitext(os.path.basename(p))[0],\n",
        "                          glob.glob(os.path.join(directory, '*.npy'))))\n",
        "\n",
        "    results_list = []\n",
        "    for file_name in file_names:\n",
        "        results_list.append( np.load(os.path.join(directory, file_name + '.npy'), mmap_mode='r'))\n",
        "    return results_list"
      ],
      "execution_count": null,
      "outputs": []
    },
    {
      "cell_type": "code",
      "metadata": {
        "id": "bqhzaXCGNkfK"
      },
      "source": [
        "test_data = np.array( load_all_npy_files(path))\n",
        "train_data = np.array( load_all_npy_files(path2))"
      ],
      "execution_count": null,
      "outputs": []
    },
    {
      "cell_type": "code",
      "metadata": {
        "id": "BGcnw40WNkfM",
        "outputId": "8ab13249-0a0f-4eea-97b5-603a77cd0b83",
        "colab": {
          "base_uri": "https://localhost:8080/"
        }
      },
      "source": [
        "train_data.shape, test_data.shape"
      ],
      "execution_count": null,
      "outputs": [
        {
          "output_type": "execute_result",
          "data": {
            "text/plain": [
              "((716, 64, 32, 128), (716, 64, 32, 128))"
            ]
          },
          "metadata": {},
          "execution_count": 5
        }
      ]
    },
    {
      "cell_type": "code",
      "metadata": {
        "id": "hjuy7zciNkfP"
      },
      "source": [
        "other_test_data = np.array( load_all_npy_files(path3))"
      ],
      "execution_count": null,
      "outputs": []
    },
    {
      "cell_type": "code",
      "metadata": {
        "id": "tta7QX9jNkfQ"
      },
      "source": [
        "other_test_data.shape"
      ],
      "execution_count": null,
      "outputs": []
    },
    {
      "cell_type": "code",
      "metadata": {
        "id": "rkLCjnmwNkfS",
        "colab": {
          "base_uri": "https://localhost:8080/"
        },
        "outputId": "d15133c3-89ef-43a0-b289-5437a646e745"
      },
      "source": [
        "# region of interest\n",
        "\n",
        "new_data = train_data[:,:,0:10,:]\n",
        "new_test_data = test_data[:,:,0:10,:]\n",
        "\n",
        "new_data.shape, new_test_data.shape,"
      ],
      "execution_count": null,
      "outputs": [
        {
          "output_type": "execute_result",
          "data": {
            "text/plain": [
              "((716, 64, 10, 128), (716, 64, 10, 128))"
            ]
          },
          "metadata": {},
          "execution_count": 7
        }
      ]
    },
    {
      "cell_type": "code",
      "metadata": {
        "id": "dC-V4D4qNkfU"
      },
      "source": [
        "#### mean data along the time axis 64\n",
        "\n",
        "def preprocessing_profound(array):\n",
        "   \n",
        "    matrix = [] # 64, \n",
        "    for i in range(array.shape[0]):\n",
        "        mean  = np.mean(array[i], axis  = 0)\n",
        "        \n",
        "        matrix.append(mean)\n",
        "        \n",
        "    return np.array(matrix)"
      ],
      "execution_count": null,
      "outputs": []
    },
    {
      "cell_type": "code",
      "metadata": {
        "id": "x-DYOKYTNkfW"
      },
      "source": [
        "## calculate the moment\n",
        "\n",
        "from scipy.stats import kurtosis\n",
        "\n",
        "def preprocessing_moment(array):\n",
        "   \n",
        "    matrix = [] # 64, \n",
        "    for i in range(array.shape[0]):\n",
        "        mean = np.mean(array[i,:,:])\n",
        "        var = np.var(array[i,:,:])\n",
        "        kurt = kurtosis(array[i,:,:], axis = None) \n",
        "        \n",
        "        matrix.append(np.array([mean, var, kurt]))\n",
        "        \n",
        "    return np.array(matrix).T "
      ],
      "execution_count": null,
      "outputs": []
    },
    {
      "cell_type": "code",
      "metadata": {
        "id": "e-lUJvGkNkfY"
      },
      "source": [
        "def training_set(data_tr):\n",
        "    all_data = []\n",
        "    for i in range(data_tr.shape[0]):\n",
        "\n",
        "        data = preprocessing_moment(data_tr[i,:,:,:])  #(1046, 64, 32, 128)  ==> (1046,3,64)\n",
        "        all_data.append(data)\n",
        "    \n",
        "    return np.array(all_data)"
      ],
      "execution_count": null,
      "outputs": []
    },
    {
      "cell_type": "code",
      "metadata": {
        "id": "ie5sqJfeNkfa",
        "outputId": "642aaefa-45a5-4a52-f062-101dd9f215e7",
        "colab": {
          "base_uri": "https://localhost:8080/"
        }
      },
      "source": [
        "X_train = training_set(new_data)\n",
        "X_test  = training_set(new_test_data)\n",
        "X_train.shape, X_test.shape,"
      ],
      "execution_count": null,
      "outputs": [
        {
          "output_type": "execute_result",
          "data": {
            "text/plain": [
              "((716, 3, 64), (716, 3, 64))"
            ]
          },
          "metadata": {},
          "execution_count": 11
        }
      ]
    },
    {
      "cell_type": "code",
      "metadata": {
        "id": "Aqj41e96Nkfb"
      },
      "source": [
        "UDA = X_train[510:520]\n",
        "GG = X_train[530:540]"
      ],
      "execution_count": null,
      "outputs": []
    },
    {
      "cell_type": "code",
      "metadata": {
        "id": "0Sr1nE9iNkfc",
        "colab": {
          "base_uri": "https://localhost:8080/",
          "height": 636
        },
        "outputId": "0759cd14-d0e1-4630-ac18-efe55985fd9d"
      },
      "source": [
        "\n",
        "fig, axs = plt.subplots(2,5,figsize=(20,20))\n",
        "for i, ax in enumerate(axs.flatten()):\n",
        "          ax.imshow(UDA[i,:,:])\n",
        "          ax.set_xticks([])\n",
        "          ax.set_yticks([])"
      ],
      "execution_count": null,
      "outputs": [
        {
          "output_type": "display_data",
          "data": {
            "image/png": "[encoded data removed]",
            "text/plain": [
              "<Figure size 1440x1440 with 10 Axes>"
            ]
          },
          "metadata": {}
        }
      ]
    },
    {
      "cell_type": "code",
      "metadata": {
        "id": "R_OwXi3GNkfe",
        "outputId": "3986eb04-f39e-42c0-c995-a91b6e8a7b54",
        "colab": {
          "base_uri": "https://localhost:8080/"
        }
      },
      "source": [
        "# define labels for train\n",
        "\n",
        "Y = []\n",
        "a = np.ones((523,1))\n",
        "b =  np.zeros((523,1))\n",
        "b\n",
        "Y.append(a)\n",
        "Y.append(b)\n",
        "Y  = np.array(Y)\n",
        "\n",
        "Y_train = Y.reshape(1046,1 )\n",
        "Y_train.shape"
      ],
      "execution_count": null,
      "outputs": [
        {
          "output_type": "execute_result",
          "data": {
            "text/plain": [
              "(1046, 1)"
            ]
          },
          "metadata": {},
          "execution_count": 14
        }
      ]
    },
    {
      "cell_type": "code",
      "metadata": {
        "id": "ZGQttGpbNkfg",
        "outputId": "7969e8ba-609d-4d48-ef92-c2a5f91c7d04",
        "colab": {
          "base_uri": "https://localhost:8080/"
        }
      },
      "source": [
        "# define labels for test\n",
        "\n",
        "arr1_insert = np.array([ np.ones((358,1)) ])\n",
        "arr2_insert = np.append(arr1_insert, [[0]*344 ] )\n",
        "\n",
        "Y_test = arr2_insert.reshape(702,1)\n",
        "Y_test.shape\n"
      ],
      "execution_count": null,
      "outputs": [
        {
          "output_type": "execute_result",
          "data": {
            "text/plain": [
              "(702, 1)"
            ]
          },
          "metadata": {},
          "execution_count": 15
        }
      ]
    },
    {
      "cell_type": "code",
      "metadata": {
        "id": "9UNgHEbTNkfh",
        "outputId": "c5a4761b-7b3c-4a77-cd68-e4aef9cd7daa",
        "colab": {
          "base_uri": "https://localhost:8080/"
        }
      },
      "source": [
        "# define labels for test\n",
        "\n",
        "arr1 = np.array([ np.ones((363,1)) ])\n",
        "arr2 = np.append(arr1_insert, [[0]*339 ] )\n",
        "\n",
        "Y_ottest = arr2_insert.reshape(702,1)\n",
        "Y_ottest.shape\n"
      ],
      "execution_count": null,
      "outputs": [
        {
          "output_type": "execute_result",
          "data": {
            "text/plain": [
              "(702, 1)"
            ]
          },
          "metadata": {},
          "execution_count": 16
        }
      ]
    },
    {
      "cell_type": "code",
      "metadata": {
        "id": "JaJAorUmNkfj",
        "outputId": "980d76f5-0f6b-49bc-c257-5b6fb614709c",
        "colab": {
          "base_uri": "https://localhost:8080/"
        }
      },
      "source": [
        "X_train.shape,Y_train.shape, X_test.shape,Y_test.shape"
      ],
      "execution_count": null,
      "outputs": [
        {
          "output_type": "execute_result",
          "data": {
            "text/plain": [
              "((716, 3, 64), (1046, 1), (716, 3, 64), (702, 1))"
            ]
          },
          "metadata": {},
          "execution_count": 17
        }
      ]
    },
    {
      "cell_type": "code",
      "metadata": {
        "id": "xFl0dbjrNkfj",
        "outputId": "455ae10a-5dc0-445b-c93b-3dc95c77722e",
        "colab": {
          "base_uri": "https://localhost:8080/"
        }
      },
      "source": [
        "X = X_train.reshape(716, 3*64)\n",
        "Xtest = X_test.reshape(716, 3*64)\n",
        "X.shape, Xtest.shape"
      ],
      "execution_count": null,
      "outputs": [
        {
          "output_type": "execute_result",
          "data": {
            "text/plain": [
              "((716, 192), (716, 192))"
            ]
          },
          "metadata": {},
          "execution_count": 18
        }
      ]
    },
    {
      "cell_type": "code",
      "metadata": {
        "jupyter": {
          "source_hidden": true
        },
        "id": "w6YPuCH5Nkfk"
      },
      "source": [
        " \n",
        "def PCA(X , num_components):\n",
        "     \n",
        "    #Step-1\n",
        "    X_meaned = X - np.mean(X , axis = 0)\n",
        "     \n",
        "    #Step-2\n",
        "    cov_mat = np.cov(X_meaned , rowvar = False)\n",
        "     \n",
        "    #Step-3\n",
        "    eigen_values , eigen_vectors = np.linalg.eigh(cov_mat)\n",
        "     \n",
        "    #Step-4\n",
        "    sorted_index = np.argsort(eigen_values)[::-1]\n",
        "    sorted_eigenvalue = eigen_values[sorted_index]\n",
        "    sorted_eigenvectors = eigen_vectors[:,sorted_index]\n",
        "     \n",
        "    #Step-5\n",
        "    eigenvector_subset = sorted_eigenvectors[:,0:num_components]\n",
        "     \n",
        "    #Step-6\n",
        "    X_reduced = np.dot(eigenvector_subset.transpose() , X_meaned.transpose() ).transpose()\n",
        "     \n",
        "    return X_reduced"
      ],
      "execution_count": null,
      "outputs": []
    },
    {
      "cell_type": "code",
      "metadata": {
        "id": "XwtZVNHuNkfm"
      },
      "source": [
        "def MLP():\n",
        " \n",
        "    model = Sequential()\n",
        "    model.add(Dense( 192 , input_dim = 192, activation='relu'))\n",
        "    model.add(Dense(100, activation ='relu' ))\n",
        "    model.add(Dropout(0.5))   #### \n",
        "    model.add(Dense(10, activation ='relu' ))\n",
        "    model.add(Dropout(0.5)) \n",
        "    model.add(Dense(1 , activation='sigmoid'))\n",
        "    model.compile(Adam(lr=0.001), loss ='binary_crossentropy',metrics=['accuracy'])\n",
        "    return model"
      ],
      "execution_count": null,
      "outputs": []
    },
    {
      "cell_type": "code",
      "metadata": {
        "jupyter": {
          "source_hidden": true
        },
        "id": "LYNB5ia9Nkfo"
      },
      "source": [
        "def MLP():\n",
        " \n",
        "    model = Sequential()\n",
        "    model.add(Dense( 192 , input_dim = 192, activation='relu'))\n",
        "    model.add(Dense(100, activation ='relu' ))\n",
        "    model.add(Dropout(0.5))   #### \n",
        "    model.add(Dense(100, activation ='relu' ))\n",
        "    model.add(Dropout(0.5))\n",
        "    model.add(Dense(10, activation ='relu' ))\n",
        "    model.add(Dropout(0.5)) \n",
        "    model.add(Dense(1 , activation='sigmoid'))\n",
        "    model.compile(Adam(lr=0.001), loss ='binary_crossentropy',metrics=['accuracy'])\n",
        "    return model"
      ],
      "execution_count": null,
      "outputs": []
    },
    {
      "cell_type": "code",
      "source": [
        "def MLP():\n",
        "\n",
        "    model = Sequential()\n",
        "    model.add(Dense( 192 , input_dim = 192, activation='relu'))\n",
        "    model.add(Dense(100, activation ='relu' ))\n",
        "    model.add(Dropout(0.5))   ####\n",
        "    model.add(Dense(10, activation ='relu' ))\n",
        "    model.add(Dropout(0.5))\n",
        "    model.add(Dense(1 , activation='sigmoid'))\n",
        "    model.compile(Adam(lr=0.001), loss ='binary_crossentropy',metrics=['accuracy'])\n",
        "    return model\n"
      ],
      "metadata": {
        "id": "L9rHskFyyhe0"
      },
      "execution_count": null,
      "outputs": []
    },
    {
      "cell_type": "code",
      "metadata": {
        "jupyter": {
          "source_hidden": true
        },
        "id": "-waVTRYtNkfp"
      },
      "source": [
        "def leNet_model():\n",
        "    model = Sequential()\n",
        "    model.add(Conv2D(30, (5,5), input_shape =(32, 128,1), activation = 'relu' ))\n",
        "    model.add(MaxPooling2D(pool_size = (2,2)))\n",
        "    model.add(Conv2D(15,(3,3) ,activation= 'relu'))\n",
        "    model.add(MaxPooling2D(pool_size = (2,2)))\n",
        "    model.add(Flatten())\n",
        "    model.add(Dense(500 , activation = 'relu'))\n",
        "    model.add(Dropout(0.5))\n",
        "    \n",
        "    model.add(Dense(1, activation = 'sigmoid'))\n",
        "    model.compile(Adam(lr = 0.01), loss ='binary_crossentropy' , metrics = ['accuracy'])\n",
        "    return model\n",
        "     "
      ],
      "execution_count": null,
      "outputs": []
    },
    {
      "cell_type": "code",
      "metadata": {
        "id": "tFGJSHgTNkfq",
        "outputId": "49d1d2e6-b206-46d3-8b43-dfa9c29040fb",
        "colab": {
          "base_uri": "https://localhost:8080/"
        }
      },
      "source": [
        "model1 =  MLP()\n",
        "model1.summary()"
      ],
      "execution_count": null,
      "outputs": [
        {
          "output_type": "stream",
          "name": "stdout",
          "text": [
            "Model: \"sequential\"\n",
            "_________________________________________________________________\n",
            " Layer (type)                Output Shape              Param #   \n",
            "=================================================================\n",
            " dense (Dense)               (None, 192)               37056     \n",
            "                                                                 \n",
            " dense_1 (Dense)             (None, 100)               19300     \n",
            "                                                                 \n",
            " dropout (Dropout)           (None, 100)               0         \n",
            "                                                                 \n",
            " dense_2 (Dense)             (None, 100)               10100     \n",
            "                                                                 \n",
            " dropout_1 (Dropout)         (None, 100)               0         \n",
            "                                                                 \n",
            " dense_3 (Dense)             (None, 10)                1010      \n",
            "                                                                 \n",
            " dropout_2 (Dropout)         (None, 10)                0         \n",
            "                                                                 \n",
            " dense_4 (Dense)             (None, 1)                 11        \n",
            "                                                                 \n",
            "=================================================================\n",
            "Total params: 67,477\n",
            "Trainable params: 67,477\n",
            "Non-trainable params: 0\n",
            "_________________________________________________________________\n"
          ]
        },
        {
          "output_type": "stream",
          "name": "stderr",
          "text": [
            "/usr/local/lib/python3.7/dist-packages/keras/optimizer_v2/adam.py:105: UserWarning: The `lr` argument is deprecated, use `learning_rate` instead.\n",
            "  super(Adam, self).__init__(name, **kwargs)\n"
          ]
        }
      ]
    },
    {
      "cell_type": "code",
      "metadata": {
        "jupyter": {
          "outputs_hidden": true
        },
        "id": "2loG1VEMNkfs"
      },
      "source": [
        "h = model.fit (X ,Y_train  ,validation_split = 0.1  ,  epochs = 100  ,verbose =1 , shuffle = 1)"
      ],
      "execution_count": null,
      "outputs": []
    },
    {
      "cell_type": "code",
      "source": [
        "def MLP():\n",
        " \n",
        "    model = Sequential()\n",
        "    model.add(Dense( 192 , input_dim = 192, activation='relu'))\n",
        "    model.add(Dense(100, activation ='relu' ))\n",
        "    model.add(Dropout(0.5))   #### \n",
        "    model.add(Dense(100, activation ='relu' ))\n",
        "    model.add(Dropout(0.5))\n",
        "    model.add(Dense(10, activation ='relu' ))\n",
        "    model.add(Dropout(0.5)) \n",
        "    model.add(Dense(1 , activation='sigmoid'))\n",
        "    model.compile(Adam(lr=0.001), loss ='binary_crossentropy',metrics=['accuracy'])\n",
        "    return model"
      ],
      "metadata": {
        "id": "FtpNb-4LNgJz"
      },
      "execution_count": null,
      "outputs": []
    },
    {
      "cell_type": "code",
      "metadata": {
        "id": "ZMz3lDJ9Nkft"
      },
      "source": [
        "from sklearn.model_selection import train_test_split\n",
        "\n",
        "new_Xtest,_, new_Ytest,_ = train_test_split(X_test, Y_test, test_size = 0.8, shuffle = True )\n",
        "new_Xtest.shape\n",
        "\n",
        "new_test = new_Xtest.reshape(140,3*64)\n",
        "new_test.shape, new_Ytest.shape"
      ],
      "execution_count": null,
      "outputs": []
    },
    {
      "cell_type": "code",
      "metadata": {
        "id": "ChxZ9YfoNkfu"
      },
      "source": [],
      "execution_count": null,
      "outputs": []
    },
    {
      "cell_type": "code",
      "metadata": {
        "jupyter": {
          "outputs_hidden": true
        },
        "id": "D0-ZLLppNkfv",
        "outputId": "448567ad-88eb-4aca-bc7c-047476e995c5"
      },
      "source": [
        "h3 = model1.fit(X ,Y_train  ,validation_data = (new_test, new_Ytest) ,  epochs = 100  , verbose =1, shuffle = 1)"
      ],
      "execution_count": null,
      "outputs": [
        {
          "name": "stdout",
          "output_type": "stream",
          "text": [
            "Train on 1046 samples, validate on 140 samples\n",
            "Epoch 1/100\n",
            "1046/1046 [==============================] - 0s 324us/step - loss: 0.1085 - accuracy: 0.9627 - val_loss: 4.3888 - val_accuracy: 0.5357\n",
            "Epoch 2/100\n",
            "1046/1046 [==============================] - 0s 325us/step - loss: 0.1137 - accuracy: 0.9589 - val_loss: 4.0359 - val_accuracy: 0.5857\n",
            "Epoch 3/100\n",
            "1046/1046 [==============================] - 0s 265us/step - loss: 0.0813 - accuracy: 0.9732 - val_loss: 4.8507 - val_accuracy: 0.5429\n",
            "Epoch 4/100\n",
            "1046/1046 [==============================] - 0s 280us/step - loss: 0.0993 - accuracy: 0.9589 - val_loss: 4.8277 - val_accuracy: 0.5929\n",
            "Epoch 5/100\n",
            "1046/1046 [==============================] - 0s 295us/step - loss: 0.0840 - accuracy: 0.9675 - val_loss: 4.7678 - val_accuracy: 0.5357\n",
            "Epoch 6/100\n",
            "1046/1046 [==============================] - 0s 327us/step - loss: 0.0580 - accuracy: 0.9866 - val_loss: 5.1605 - val_accuracy: 0.5786\n",
            "Epoch 7/100\n",
            "1046/1046 [==============================] - 0s 304us/step - loss: 0.0650 - accuracy: 0.9742 - val_loss: 5.5065 - val_accuracy: 0.5571\n",
            "Epoch 8/100\n",
            "1046/1046 [==============================] - 0s 315us/step - loss: 0.2280 - accuracy: 0.9446 - val_loss: 3.4600 - val_accuracy: 0.5714\n",
            "Epoch 9/100\n",
            "1046/1046 [==============================] - 0s 300us/step - loss: 0.1217 - accuracy: 0.9522 - val_loss: 4.5086 - val_accuracy: 0.4857\n",
            "Epoch 10/100\n",
            "1046/1046 [==============================] - 0s 316us/step - loss: 0.1420 - accuracy: 0.9541 - val_loss: 4.8310 - val_accuracy: 0.5357\n",
            "Epoch 11/100\n",
            "1046/1046 [==============================] - 0s 293us/step - loss: 0.1110 - accuracy: 0.9522 - val_loss: 4.4923 - val_accuracy: 0.5571\n",
            "Epoch 12/100\n",
            "1046/1046 [==============================] - 0s 291us/step - loss: 0.0633 - accuracy: 0.9751 - val_loss: 5.0623 - val_accuracy: 0.5500\n",
            "Epoch 13/100\n",
            "1046/1046 [==============================] - 0s 295us/step - loss: 0.0544 - accuracy: 0.9837 - val_loss: 5.0606 - val_accuracy: 0.5357\n",
            "Epoch 14/100\n",
            "1046/1046 [==============================] - 0s 325us/step - loss: 0.0631 - accuracy: 0.9799 - val_loss: 5.1142 - val_accuracy: 0.5571\n",
            "Epoch 15/100\n",
            "1046/1046 [==============================] - 0s 298us/step - loss: 0.0604 - accuracy: 0.9780 - val_loss: 5.4985 - val_accuracy: 0.5357\n",
            "Epoch 16/100\n",
            "1046/1046 [==============================] - 0s 311us/step - loss: 0.0583 - accuracy: 0.9799 - val_loss: 5.7592 - val_accuracy: 0.5500\n",
            "Epoch 17/100\n",
            "1046/1046 [==============================] - 0s 321us/step - loss: 0.0526 - accuracy: 0.9828 - val_loss: 5.7690 - val_accuracy: 0.5286\n",
            "Epoch 18/100\n",
            "1046/1046 [==============================] - 0s 306us/step - loss: 0.0472 - accuracy: 0.9857 - val_loss: 5.6067 - val_accuracy: 0.5857\n",
            "Epoch 19/100\n",
            "1046/1046 [==============================] - 0s 298us/step - loss: 0.0500 - accuracy: 0.9857 - val_loss: 5.8258 - val_accuracy: 0.5929\n",
            "Epoch 20/100\n",
            "1046/1046 [==============================] - 0s 312us/step - loss: 0.0410 - accuracy: 0.9828 - val_loss: 6.1981 - val_accuracy: 0.5857\n",
            "Epoch 21/100\n",
            "1046/1046 [==============================] - 0s 299us/step - loss: 0.0513 - accuracy: 0.9857 - val_loss: 6.4613 - val_accuracy: 0.5857\n",
            "Epoch 22/100\n",
            "1046/1046 [==============================] - 0s 306us/step - loss: 0.0506 - accuracy: 0.9828 - val_loss: 6.7819 - val_accuracy: 0.5357\n",
            "Epoch 23/100\n",
            "1046/1046 [==============================] - 0s 302us/step - loss: 0.0611 - accuracy: 0.9771 - val_loss: 6.8460 - val_accuracy: 0.5571\n",
            "Epoch 24/100\n",
            "1046/1046 [==============================] - 0s 311us/step - loss: 0.0526 - accuracy: 0.9857 - val_loss: 6.3515 - val_accuracy: 0.5357\n",
            "Epoch 25/100\n",
            "1046/1046 [==============================] - 0s 321us/step - loss: 0.0680 - accuracy: 0.9790 - val_loss: 6.0475 - val_accuracy: 0.5786\n",
            "Epoch 26/100\n",
            "1046/1046 [==============================] - 0s 300us/step - loss: 0.0711 - accuracy: 0.9809 - val_loss: 6.2135 - val_accuracy: 0.5429\n",
            "Epoch 27/100\n",
            "1046/1046 [==============================] - 0s 304us/step - loss: 0.0658 - accuracy: 0.9780 - val_loss: 6.3408 - val_accuracy: 0.5714\n",
            "Epoch 28/100\n",
            "1046/1046 [==============================] - 0s 306us/step - loss: 0.0586 - accuracy: 0.9771 - val_loss: 7.3833 - val_accuracy: 0.5143\n",
            "Epoch 29/100\n",
            "1046/1046 [==============================] - 0s 315us/step - loss: 0.0516 - accuracy: 0.9799 - val_loss: 6.2279 - val_accuracy: 0.5786\n",
            "Epoch 30/100\n",
            "1046/1046 [==============================] - 0s 311us/step - loss: 0.0599 - accuracy: 0.9761 - val_loss: 6.5060 - val_accuracy: 0.5714\n",
            "Epoch 31/100\n",
            "1046/1046 [==============================] - 0s 337us/step - loss: 0.1206 - accuracy: 0.9732 - val_loss: 5.6208 - val_accuracy: 0.5357\n",
            "Epoch 32/100\n",
            "1046/1046 [==============================] - 0s 317us/step - loss: 0.1288 - accuracy: 0.9579 - val_loss: 4.6814 - val_accuracy: 0.5429\n",
            "Epoch 33/100\n",
            "1046/1046 [==============================] - 0s 298us/step - loss: 0.1100 - accuracy: 0.9608 - val_loss: 4.9325 - val_accuracy: 0.5214\n",
            "Epoch 34/100\n",
            "1046/1046 [==============================] - 0s 302us/step - loss: 0.0649 - accuracy: 0.9713 - val_loss: 5.9418 - val_accuracy: 0.5286\n",
            "Epoch 35/100\n",
            "1046/1046 [==============================] - 0s 308us/step - loss: 0.0609 - accuracy: 0.9723 - val_loss: 5.6755 - val_accuracy: 0.6000\n",
            "Epoch 36/100\n",
            "1046/1046 [==============================] - 0s 337us/step - loss: 0.0843 - accuracy: 0.9742 - val_loss: 5.6522 - val_accuracy: 0.5357\n",
            "Epoch 37/100\n",
            "1046/1046 [==============================] - 0s 316us/step - loss: 0.0547 - accuracy: 0.9780 - val_loss: 6.0888 - val_accuracy: 0.5357\n",
            "Epoch 38/100\n",
            "1046/1046 [==============================] - 0s 307us/step - loss: 0.0482 - accuracy: 0.9837 - val_loss: 6.6603 - val_accuracy: 0.5071\n",
            "Epoch 39/100\n",
            "1046/1046 [==============================] - 0s 321us/step - loss: 0.0463 - accuracy: 0.9780 - val_loss: 7.0853 - val_accuracy: 0.5000\n",
            "Epoch 40/100\n",
            "1046/1046 [==============================] - 0s 329us/step - loss: 0.0379 - accuracy: 0.9866 - val_loss: 7.5309 - val_accuracy: 0.5071\n",
            "Epoch 41/100\n",
            "1046/1046 [==============================] - 0s 316us/step - loss: 0.0459 - accuracy: 0.9895 - val_loss: 7.3039 - val_accuracy: 0.5000\n",
            "Epoch 42/100\n",
            "1046/1046 [==============================] - 0s 306us/step - loss: 0.0440 - accuracy: 0.9818 - val_loss: 7.4139 - val_accuracy: 0.5643\n",
            "Epoch 43/100\n",
            "1046/1046 [==============================] - 0s 321us/step - loss: 0.0710 - accuracy: 0.9761 - val_loss: 7.7090 - val_accuracy: 0.5571\n",
            "Epoch 44/100\n",
            "1046/1046 [==============================] - 0s 308us/step - loss: 0.1472 - accuracy: 0.9665 - val_loss: 6.5771 - val_accuracy: 0.5929\n",
            "Epoch 45/100\n",
            "1046/1046 [==============================] - 0s 321us/step - loss: 0.2243 - accuracy: 0.9388 - val_loss: 3.7084 - val_accuracy: 0.5143\n",
            "Epoch 46/100\n",
            "1046/1046 [==============================] - 0s 306us/step - loss: 0.1072 - accuracy: 0.9608 - val_loss: 3.4960 - val_accuracy: 0.5429\n",
            "Epoch 47/100\n",
            "1046/1046 [==============================] - 0s 288us/step - loss: 0.0647 - accuracy: 0.9799 - val_loss: 4.2296 - val_accuracy: 0.5500\n",
            "Epoch 48/100\n",
            "1046/1046 [==============================] - 0s 293us/step - loss: 0.0481 - accuracy: 0.9837 - val_loss: 4.6828 - val_accuracy: 0.5571\n",
            "Epoch 49/100\n",
            "1046/1046 [==============================] - 0s 287us/step - loss: 0.0496 - accuracy: 0.9809 - val_loss: 5.1858 - val_accuracy: 0.5571\n",
            "Epoch 50/100\n",
            "1046/1046 [==============================] - 0s 314us/step - loss: 0.0448 - accuracy: 0.9837 - val_loss: 5.5756 - val_accuracy: 0.5286\n",
            "Epoch 51/100\n",
            "1046/1046 [==============================] - 0s 301us/step - loss: 0.0413 - accuracy: 0.9866 - val_loss: 5.9689 - val_accuracy: 0.5214\n",
            "Epoch 52/100\n",
            "1046/1046 [==============================] - 0s 315us/step - loss: 0.0562 - accuracy: 0.9809 - val_loss: 6.2576 - val_accuracy: 0.5357\n",
            "Epoch 53/100\n",
            "1046/1046 [==============================] - 0s 321us/step - loss: 0.0444 - accuracy: 0.9809 - val_loss: 6.0645 - val_accuracy: 0.5357\n",
            "Epoch 54/100\n",
            "1046/1046 [==============================] - 0s 321us/step - loss: 0.0394 - accuracy: 0.9904 - val_loss: 6.1866 - val_accuracy: 0.5643\n",
            "Epoch 55/100\n",
            "1046/1046 [==============================] - 0s 329us/step - loss: 0.0466 - accuracy: 0.9818 - val_loss: 6.5353 - val_accuracy: 0.5357\n",
            "Epoch 56/100\n",
            "1046/1046 [==============================] - 0s 301us/step - loss: 0.0368 - accuracy: 0.9857 - val_loss: 6.6754 - val_accuracy: 0.5429\n",
            "Epoch 57/100\n",
            "1046/1046 [==============================] - 0s 310us/step - loss: 0.0601 - accuracy: 0.9809 - val_loss: 6.7097 - val_accuracy: 0.5643\n",
            "Epoch 58/100\n",
            "1046/1046 [==============================] - 0s 314us/step - loss: 0.0404 - accuracy: 0.9876 - val_loss: 6.3223 - val_accuracy: 0.5714\n",
            "Epoch 59/100\n",
            "1046/1046 [==============================] - 0s 295us/step - loss: 0.0417 - accuracy: 0.9876 - val_loss: 6.6051 - val_accuracy: 0.5643\n",
            "Epoch 60/100\n",
            "1046/1046 [==============================] - 0s 321us/step - loss: 0.0374 - accuracy: 0.9876 - val_loss: 6.9326 - val_accuracy: 0.5500\n",
            "Epoch 61/100\n",
            "1046/1046 [==============================] - 0s 314us/step - loss: 0.0542 - accuracy: 0.9818 - val_loss: 7.2848 - val_accuracy: 0.5071\n",
            "Epoch 62/100\n",
            "1046/1046 [==============================] - 0s 303us/step - loss: 0.1329 - accuracy: 0.9618 - val_loss: 5.6941 - val_accuracy: 0.5500\n",
            "Epoch 63/100\n",
            "1046/1046 [==============================] - 0s 315us/step - loss: 0.0773 - accuracy: 0.9656 - val_loss: 5.2532 - val_accuracy: 0.5643\n",
            "Epoch 64/100\n",
            "1046/1046 [==============================] - 0s 300us/step - loss: 0.0646 - accuracy: 0.9751 - val_loss: 5.3635 - val_accuracy: 0.5429\n",
            "Epoch 65/100\n",
            "1046/1046 [==============================] - 0s 299us/step - loss: 0.0530 - accuracy: 0.9818 - val_loss: 5.9071 - val_accuracy: 0.5286\n",
            "Epoch 66/100\n",
            "1046/1046 [==============================] - 0s 314us/step - loss: 0.0552 - accuracy: 0.9799 - val_loss: 5.5432 - val_accuracy: 0.5429\n",
            "Epoch 67/100\n",
            "1046/1046 [==============================] - 0s 329us/step - loss: 0.0554 - accuracy: 0.9828 - val_loss: 6.1473 - val_accuracy: 0.5357\n",
            "Epoch 68/100\n",
            "1046/1046 [==============================] - 0s 314us/step - loss: 0.0456 - accuracy: 0.9847 - val_loss: 6.3265 - val_accuracy: 0.5357\n",
            "Epoch 69/100\n",
            "1046/1046 [==============================] - 0s 307us/step - loss: 0.0426 - accuracy: 0.9818 - val_loss: 6.7674 - val_accuracy: 0.5500\n",
            "Epoch 70/100\n",
            "1046/1046 [==============================] - 0s 328us/step - loss: 0.0407 - accuracy: 0.9837 - val_loss: 6.9726 - val_accuracy: 0.5429\n",
            "Epoch 71/100\n",
            "1046/1046 [==============================] - 0s 329us/step - loss: 0.0489 - accuracy: 0.9780 - val_loss: 7.2966 - val_accuracy: 0.5000\n",
            "Epoch 72/100\n",
            "1046/1046 [==============================] - 0s 306us/step - loss: 0.0372 - accuracy: 0.9904 - val_loss: 7.2287 - val_accuracy: 0.5571\n",
            "Epoch 73/100\n",
            "1046/1046 [==============================] - 0s 330us/step - loss: 0.0490 - accuracy: 0.9780 - val_loss: 7.0555 - val_accuracy: 0.5357\n",
            "Epoch 74/100\n",
            "1046/1046 [==============================] - 0s 306us/step - loss: 0.0490 - accuracy: 0.9847 - val_loss: 6.9038 - val_accuracy: 0.5786\n",
            "Epoch 75/100\n",
            "1046/1046 [==============================] - 0s 329us/step - loss: 0.0400 - accuracy: 0.9866 - val_loss: 7.5722 - val_accuracy: 0.5357\n",
            "Epoch 76/100\n",
            "1046/1046 [==============================] - 0s 314us/step - loss: 0.0536 - accuracy: 0.9837 - val_loss: 7.0297 - val_accuracy: 0.5500\n",
            "Epoch 77/100\n",
            "1046/1046 [==============================] - 0s 316us/step - loss: 0.0666 - accuracy: 0.9761 - val_loss: 6.3678 - val_accuracy: 0.5286\n",
            "Epoch 78/100\n",
            "1046/1046 [==============================] - 0s 314us/step - loss: 0.0593 - accuracy: 0.9751 - val_loss: 6.0462 - val_accuracy: 0.5500\n",
            "Epoch 79/100\n",
            "1046/1046 [==============================] - 0s 321us/step - loss: 0.0522 - accuracy: 0.9780 - val_loss: 7.0684 - val_accuracy: 0.5429\n",
            "Epoch 80/100\n",
            "1046/1046 [==============================] - 0s 307us/step - loss: 0.1011 - accuracy: 0.9675 - val_loss: 5.7583 - val_accuracy: 0.5643\n",
            "Epoch 81/100\n",
            "1046/1046 [==============================] - 0s 294us/step - loss: 0.0655 - accuracy: 0.9723 - val_loss: 6.3416 - val_accuracy: 0.4929\n",
            "Epoch 82/100\n",
            "1046/1046 [==============================] - 0s 298us/step - loss: 0.0521 - accuracy: 0.9761 - val_loss: 6.2890 - val_accuracy: 0.5571\n",
            "Epoch 83/100\n",
            "1046/1046 [==============================] - 0s 294us/step - loss: 0.0560 - accuracy: 0.9818 - val_loss: 6.2170 - val_accuracy: 0.5643\n",
            "Epoch 84/100\n",
            "1046/1046 [==============================] - 0s 286us/step - loss: 0.0416 - accuracy: 0.9809 - val_loss: 7.0140 - val_accuracy: 0.5286\n",
            "Epoch 85/100\n",
            "1046/1046 [==============================] - 0s 294us/step - loss: 0.0463 - accuracy: 0.9837 - val_loss: 7.0071 - val_accuracy: 0.5429\n",
            "Epoch 86/100\n",
            "1046/1046 [==============================] - 0s 297us/step - loss: 0.0363 - accuracy: 0.9885 - val_loss: 7.2591 - val_accuracy: 0.5500\n",
            "Epoch 87/100\n",
            "1046/1046 [==============================] - 0s 308us/step - loss: 0.0296 - accuracy: 0.9895 - val_loss: 7.6384 - val_accuracy: 0.5357\n",
            "Epoch 88/100\n",
            "1046/1046 [==============================] - 0s 329us/step - loss: 0.0318 - accuracy: 0.9876 - val_loss: 7.8762 - val_accuracy: 0.5429\n",
            "Epoch 89/100\n",
            "1046/1046 [==============================] - 0s 321us/step - loss: 0.0360 - accuracy: 0.9866 - val_loss: 8.0491 - val_accuracy: 0.5429\n",
            "Epoch 90/100\n",
            "1046/1046 [==============================] - 0s 291us/step - loss: 0.0332 - accuracy: 0.9924 - val_loss: 7.8393 - val_accuracy: 0.5571\n",
            "Epoch 91/100\n",
            "1046/1046 [==============================] - 0s 306us/step - loss: 0.0280 - accuracy: 0.9895 - val_loss: 8.0891 - val_accuracy: 0.5571\n",
            "Epoch 92/100\n",
            "1046/1046 [==============================] - 0s 306us/step - loss: 0.0350 - accuracy: 0.9857 - val_loss: 8.0734 - val_accuracy: 0.5643\n",
            "Epoch 93/100\n",
            "1046/1046 [==============================] - 0s 321us/step - loss: 0.0328 - accuracy: 0.9885 - val_loss: 8.4018 - val_accuracy: 0.5571\n",
            "Epoch 94/100\n",
            "1046/1046 [==============================] - 0s 289us/step - loss: 0.0236 - accuracy: 0.9914 - val_loss: 8.8047 - val_accuracy: 0.5357\n",
            "Epoch 95/100\n",
            "1046/1046 [==============================] - 0s 305us/step - loss: 0.1336 - accuracy: 0.9809 - val_loss: 8.5752 - val_accuracy: 0.5286\n",
            "Epoch 96/100\n",
            "1046/1046 [==============================] - 0s 318us/step - loss: 0.0930 - accuracy: 0.9656 - val_loss: 5.8602 - val_accuracy: 0.5857\n",
            "Epoch 97/100\n",
            "1046/1046 [==============================] - ETA: 0s - loss: 0.0671 - accuracy: 0.96 - 0s 291us/step - loss: 0.0690 - accuracy: 0.9685 - val_loss: 7.0256 - val_accuracy: 0.5143\n",
            "Epoch 98/100\n",
            "1046/1046 [==============================] - 0s 315us/step - loss: 0.0572 - accuracy: 0.9751 - val_loss: 6.3179 - val_accuracy: 0.5500\n",
            "Epoch 99/100\n",
            "1046/1046 [==============================] - 0s 314us/step - loss: 0.0503 - accuracy: 0.9809 - val_loss: 5.9914 - val_accuracy: 0.6000\n",
            "Epoch 100/100\n",
            "1046/1046 [==============================] - 0s 291us/step - loss: 0.0540 - accuracy: 0.9818 - val_loss: 6.3178 - val_accuracy: 0.5429\n"
          ]
        }
      ]
    },
    {
      "cell_type": "code",
      "metadata": {
        "id": "eu0CCevCNkfw",
        "outputId": "ba746ce4-2cfc-4de7-d52b-615f2acc3d57"
      },
      "source": [
        "plt.plot(h.history['accuracy'])\n",
        "plt.plot(h.history['val_accuracy'])\n",
        "plt.legend(['acc', 'val_accuracy'])\n",
        "plt.title('Accuracy')\n",
        "plt.xlabel('epoch')"
      ],
      "execution_count": null,
      "outputs": [
        {
          "data": {
            "text/plain": [
              "Text(0.5, 0, 'epoch')"
            ]
          },
          "execution_count": 99,
          "metadata": {},
          "output_type": "execute_result"
        },
        {
          "data": {
            "image/png": "[encoded data removed]",
            "text/plain": [
              "<Figure size 432x288 with 1 Axes>"
            ]
          },
          "metadata": {
            "needs_background": "light"
          },
          "output_type": "display_data"
        }
      ]
    },
    {
      "cell_type": "code",
      "metadata": {
        "id": "4e_rpZFDNkf0",
        "outputId": "d5560630-9070-4f75-d755-2c4a7f2eba0b"
      },
      "source": [
        "plt.plot(h.history['loss'])\n",
        "plt.plot(h.history['val_loss'])\n",
        "plt.legend(['loss', 'val_loss'])\n",
        "plt.title('loss')\n",
        "plt.xlabel('epoch') "
      ],
      "execution_count": null,
      "outputs": [
        {
          "data": {
            "text/plain": [
              "Text(0.5, 0, 'epoch')"
            ]
          },
          "execution_count": 100,
          "metadata": {},
          "output_type": "execute_result"
        },
        {
          "data": {
            "image/png": "[encoded data removed]",
            "text/plain": [
              "<Figure size 432x288 with 1 Axes>"
            ]
          },
          "metadata": {
            "needs_background": "light"
          },
          "output_type": "display_data"
        }
      ]
    },
    {
      "cell_type": "code",
      "metadata": {
        "id": "c0KwQOV6Nkf1"
      },
      "source": [
        "model.save('MLPmodel.h5')"
      ],
      "execution_count": null,
      "outputs": []
    },
    {
      "cell_type": "code",
      "metadata": {
        "id": "YrLtWnmqNkf1",
        "outputId": "0c05b155-b547-4e3d-da16-2ff4379fde1b"
      },
      "source": [
        "X.shape, Y_train.shape\n",
        "preds = model.predict(X)\n",
        "conf = confusion_matrix(Y_train, np.round(preds))\n",
        "conf"
      ],
      "execution_count": null,
      "outputs": [
        {
          "data": {
            "text/plain": [
              "array([[518,   5],\n",
              "       [  1, 522]], dtype=int64)"
            ]
          },
          "execution_count": 211,
          "metadata": {},
          "output_type": "execute_result"
        }
      ]
    },
    {
      "cell_type": "code",
      "metadata": {
        "id": "m8fh20dxNkf2",
        "outputId": "53c9a6b3-ed5b-4d6d-f704-01d5d2335d59"
      },
      "source": [
        "test_set  = ot_Xtest.reshape(702, 64*3)\n",
        "test_set.shape"
      ],
      "execution_count": null,
      "outputs": [
        {
          "data": {
            "text/plain": [
              "(702, 192)"
            ]
          },
          "execution_count": 213,
          "metadata": {},
          "output_type": "execute_result"
        }
      ]
    },
    {
      "cell_type": "code",
      "metadata": {
        "id": "duSn_2KbNkf2",
        "outputId": "dfafabcf-de92-4cd0-8c7d-afb03d91e384"
      },
      "source": [
        "from sklearn.metrics import classification_report, confusion_matrix\n",
        "\n",
        "preds = model.predict(test_set)\n",
        "conf = confusion_matrix(Y_ottest, np.round(preds))\n",
        "print(classification_report(Y_ottest, np.round(preds)))\n",
        "print(conf)"
      ],
      "execution_count": null,
      "outputs": [
        {
          "name": "stdout",
          "output_type": "stream",
          "text": [
            "              precision    recall  f1-score   support\n",
            "\n",
            "         0.0       1.00      0.82      0.90       344\n",
            "         1.0       0.85      1.00      0.92       358\n",
            "\n",
            "    accuracy                           0.91       702\n",
            "   macro avg       0.92      0.91      0.91       702\n",
            "weighted avg       0.92      0.91      0.91       702\n",
            "\n",
            "[[282  62]\n",
            " [  1 357]]\n"
          ]
        }
      ]
    },
    {
      "cell_type": "code",
      "metadata": {
        "id": "w-p6sBZLNkf3"
      },
      "source": [
        "def metrics( VP, FN,FP,VN) :\n",
        "    \n",
        "    \n",
        "    accuracy  = (VP+ VN)/(VP+VN+FN+FP)\n",
        "    \n",
        "    sensibilite = VP/(VP+FN)\n",
        "    \n",
        "    specifity = VN/(VN+FP)\n",
        "    \n",
        "    rappel = VP/(VP+FN)\n",
        "    \n",
        "    try:\n",
        "        Precision = VP/(VP+FP)\n",
        "        \n",
        "    except ZeroDivisionError:\n",
        "        \n",
        "        Precision = 0\n",
        "   \n",
        "    \n",
        "    metrics = {\"accuray\":accuracy ,\"sensibilite\":sensibilite, \"specifity\":specifity, \"rappel\":rappel  , \"Precision\":Precision }\n",
        "    \n",
        "    return accuracy,sensibilite,specifity, rappel, Precision"
      ],
      "execution_count": null,
      "outputs": []
    },
    {
      "cell_type": "code",
      "metadata": {
        "id": "MYCCU01pNkf4"
      },
      "source": [
        "def conf_matrix(y_pred, y_true, theta):\n",
        "\n",
        "    vn = 0\n",
        "    fn = 0\n",
        "    fp = 0\n",
        "    vp = 0\n",
        "\n",
        "    for i in range (len(y_pred)):\n",
        "        \n",
        "        if y_pred[i] < theta  and y_true[i] == 0 :\n",
        "                vn =  vn+1\n",
        "        if y_pred[i] > theta and y_true[i] == 1 :\n",
        "\n",
        "             vp = vp+1\n",
        "\n",
        "        if y_pred[i] < theta  and y_true[i] == 1 :\n",
        "                fn = fn+1\n",
        "\n",
        "        if y_pred[i]> theta  and y_true[i] == 0 :\n",
        "                fp = fp+1  \n",
        "\n",
        "        \n",
        "    coefficient = {\"vn\": vn , \"vp\":vp, \"fp\" :fp, \"fn\": fn}\n",
        "    \n",
        "    confusion_matrix =  np.array( [[vn, fn] ,[fp,vp]] )\n",
        "    \n",
        "    return confusion_matrix, coefficient"
      ],
      "execution_count": null,
      "outputs": []
    },
    {
      "cell_type": "code",
      "metadata": {
        "id": "hgot-0HdNkf4",
        "outputId": "d97b026c-1e8a-477c-9bdf-e9ad43245a57"
      },
      "source": [
        "confusion_mat,_ = conf_matrix(preds, Y_train, 0.5)\n",
        "confusion_mat"
      ],
      "execution_count": null,
      "outputs": [
        {
          "data": {
            "text/plain": [
              "array([[518,   1],\n",
              "       [  5, 522]])"
            ]
          },
          "execution_count": 146,
          "metadata": {},
          "output_type": "execute_result"
        }
      ]
    },
    {
      "cell_type": "code",
      "metadata": {
        "id": "aRERrbKBNkf5"
      },
      "source": [
        "def plot_ROC(y_pred,y_true):\n",
        "    \n",
        "        theta = np.linspace(0,1,100)\n",
        "    \n",
        "        All_sensibilite = []\n",
        "        All_specifity = []\n",
        "\n",
        "        for i in range(theta.shape[0]):\n",
        "\n",
        "\n",
        "            _,coef = (conf_matrix(y_pred, y_true, theta[i]))\n",
        "            _,sensibilite,specifity,_,_ = metrics(coef[\"vp\"] , coef[\"fn\"] , coef[\"fp\"] , coef[\"vn\"]) #VP, FN,FP,VN)\n",
        "            specifitys = 1-specifity\n",
        "            \n",
        "            All_sensibilite.append(sensibilite)\n",
        "            All_specifity.append(specifitys)\n",
        "        plt.plot(All_specifity, All_sensibilite)\n",
        "        plt.xlabel(\"1-specifity\")\n",
        "        plt.ylabel(\"sensibilite\")   \n",
        "        plt.title(\"roc curve\")    \n",
        "        return All_sensibilite, All_specifity"
      ],
      "execution_count": null,
      "outputs": []
    },
    {
      "cell_type": "code",
      "metadata": {
        "id": "ywWFIoCDNkf6",
        "outputId": "2bed761e-3758-4db8-ccc2-d2151a2bf508"
      },
      "source": [
        "All_sensibilite, All_specifity= plot_ROC(preds,Y_ottest)"
      ],
      "execution_count": null,
      "outputs": [
        {
          "data": {
            "image/png": "[encoded data removed]",
            "text/plain": [
              "<Figure size 432x288 with 1 Axes>"
            ]
          },
          "metadata": {
            "needs_background": "light"
          },
          "output_type": "display_data"
        }
      ]
    },
    {
      "cell_type": "code",
      "metadata": {
        "collapsed": true,
        "jupyter": {
          "outputs_hidden": true
        },
        "id": "VMrHZlY-Nkf6",
        "outputId": "ae5eccff-c087-48b9-843d-8cec6ae70536"
      },
      "source": [
        "\n",
        "\n",
        "new_data.shape, new_test_data.shape"
      ],
      "execution_count": null,
      "outputs": [
        {
          "ename": "NameError",
          "evalue": "name 'new_data' is not defined",
          "output_type": "error",
          "traceback": [
            "\u001b[1;31m---------------------------------------------------------------------------\u001b[0m",
            "\u001b[1;31mNameError\u001b[0m                                 Traceback (most recent call last)",
            "\u001b[1;32m<ipython-input-5-70596e0f6792>\u001b[0m in \u001b[0;36m<module>\u001b[1;34m\u001b[0m\n\u001b[1;32m----> 1\u001b[1;33m \u001b[0mnew_data\u001b[0m\u001b[1;33m.\u001b[0m\u001b[0mshape\u001b[0m\u001b[1;33m,\u001b[0m \u001b[0mnew_test_data\u001b[0m\u001b[1;33m.\u001b[0m\u001b[0mshape\u001b[0m\u001b[1;33m\u001b[0m\u001b[1;33m\u001b[0m\u001b[0m\n\u001b[0m",
            "\u001b[1;31mNameError\u001b[0m: name 'new_data' is not defined"
          ]
        }
      ]
    },
    {
      "cell_type": "code",
      "metadata": {
        "id": "_cDxwTgANkf7",
        "outputId": "9ed9b922-f0e9-44bf-b061-226e0d89e47a"
      },
      "source": [
        "## calculate entropy for every tensor and chose the indice of the image which has most entropy value\n",
        "\n",
        "from scipy.stats import entropy\n",
        "\n",
        "a = train_data\n",
        "entropys = []\n",
        "max_entropy=[]\n",
        "for i in range(a.shape[0]):\n",
        "    for j in range(a.shape[1]):\n",
        "        \n",
        "        ent = entropy(np.sum(a[i,j,:,:], axis = 1)+0.01)\n",
        "        entropys.append(ent)\n",
        "\n",
        "        \n",
        "result = [entropys.index(max(entropys[i:i+64])) for i in range(0, len(entropys), 64)]\n",
        "result = np.array(result) \n",
        "result.shape \n",
        "entropys = np.array(entropys)\n",
        "new_array = entropys.reshape(1046,64)\n",
        "new_array.shape\n",
        "final = []\n",
        "for i in range(train_data.shape[0]):\n",
        "    nex_data = train_data[i]\n",
        "    fi_data = nex_data[idex[i], :,:]\n",
        "    final.append(fi_data)\n",
        "\n",
        "\n",
        "final = np.array(final)\n",
        "final.shape\n",
        "final.shape,Y_train.shape"
      ],
      "execution_count": null,
      "outputs": [
        {
          "data": {
            "text/plain": [
              "((1046, 32, 128), (1046, 1))"
            ]
          },
          "execution_count": 22,
          "metadata": {},
          "output_type": "execute_result"
        }
      ]
    },
    {
      "cell_type": "code",
      "metadata": {
        "id": "KcFk1RKbNkf8",
        "outputId": "712d15ab-e6c6-4076-8da0-b6b68c003f51"
      },
      "source": [
        "x_conv = final.reshape(1046,32,128,1)\n",
        "x_conv.shape, Y_train.shape"
      ],
      "execution_count": null,
      "outputs": [
        {
          "data": {
            "text/plain": [
              "((1046, 32, 128, 1), (1046, 1))"
            ]
          },
          "execution_count": 118,
          "metadata": {},
          "output_type": "execute_result"
        }
      ]
    },
    {
      "cell_type": "code",
      "metadata": {
        "collapsed": true,
        "jupyter": {
          "outputs_hidden": true,
          "source_hidden": true
        },
        "id": "BG5FM0AvNkf8",
        "outputId": "255bfa86-919c-4acb-f175-c121b5af946c"
      },
      "source": [
        "len(entropys)"
      ],
      "execution_count": null,
      "outputs": [
        {
          "data": {
            "text/plain": [
              "66944"
            ]
          },
          "execution_count": 6,
          "metadata": {},
          "output_type": "execute_result"
        }
      ]
    },
    {
      "cell_type": "code",
      "metadata": {
        "collapsed": true,
        "jupyter": {
          "outputs_hidden": true,
          "source_hidden": true
        },
        "id": "UQmxURq-Nkf9",
        "outputId": "cfdcddb8-997b-4053-e62b-4105530ea3fb"
      },
      "source": [
        "entropys = np.array(entropys)\n",
        "new_array = entropys.reshape(1046,64)\n",
        "new_array.shape\n"
      ],
      "execution_count": null,
      "outputs": [
        {
          "data": {
            "text/plain": [
              "(1046, 64)"
            ]
          },
          "execution_count": 11,
          "metadata": {},
          "output_type": "execute_result"
        }
      ]
    },
    {
      "cell_type": "code",
      "metadata": {
        "collapsed": true,
        "jupyter": {
          "outputs_hidden": true,
          "source_hidden": true
        },
        "id": "gS8HyHreNkf9",
        "outputId": "dd472712-9c9e-4433-e932-94294122e107"
      },
      "source": [
        "idex = np.argmax(new_array, axis = 1)\n",
        "idex"
      ],
      "execution_count": null,
      "outputs": [
        {
          "data": {
            "text/plain": [
              "array([63, 61, 56, ..., 14, 23, 56], dtype=int64)"
            ]
          },
          "execution_count": 12,
          "metadata": {},
          "output_type": "execute_result"
        }
      ]
    },
    {
      "cell_type": "code",
      "metadata": {
        "collapsed": true,
        "jupyter": {
          "outputs_hidden": true,
          "source_hidden": true
        },
        "id": "aPF_BGhnNkf-",
        "outputId": "6094cd04-d8a5-4148-a80c-7f2a642cb94e"
      },
      "source": [
        "final_data=np.array(final_data)\n",
        "final_data.shape"
      ],
      "execution_count": null,
      "outputs": [
        {
          "ename": "NameError",
          "evalue": "name 'final_data' is not defined",
          "output_type": "error",
          "traceback": [
            "\u001b[1;31m---------------------------------------------------------------------------\u001b[0m",
            "\u001b[1;31mNameError\u001b[0m                                 Traceback (most recent call last)",
            "\u001b[1;32m<ipython-input-13-a6c65ee78723>\u001b[0m in \u001b[0;36m<module>\u001b[1;34m\u001b[0m\n\u001b[1;32m----> 1\u001b[1;33m \u001b[0mfinal_data\u001b[0m\u001b[1;33m=\u001b[0m\u001b[0mnp\u001b[0m\u001b[1;33m.\u001b[0m\u001b[0marray\u001b[0m\u001b[1;33m(\u001b[0m\u001b[0mfinal_data\u001b[0m\u001b[1;33m)\u001b[0m\u001b[1;33m\u001b[0m\u001b[1;33m\u001b[0m\u001b[0m\n\u001b[0m\u001b[0;32m      2\u001b[0m \u001b[0mfinal_data\u001b[0m\u001b[1;33m.\u001b[0m\u001b[0mshape\u001b[0m\u001b[1;33m\u001b[0m\u001b[1;33m\u001b[0m\u001b[0m\n",
            "\u001b[1;31mNameError\u001b[0m: name 'final_data' is not defined"
          ]
        }
      ]
    },
    {
      "cell_type": "code",
      "metadata": {
        "collapsed": true,
        "jupyter": {
          "outputs_hidden": true,
          "source_hidden": true
        },
        "id": "JK01Pt5ONkf-",
        "outputId": "e23f001b-f365-4656-87ad-22ee6b5dab5c"
      },
      "source": [
        "idex[1045]"
      ],
      "execution_count": null,
      "outputs": [
        {
          "data": {
            "text/plain": [
              "56"
            ]
          },
          "execution_count": 10,
          "metadata": {},
          "output_type": "execute_result"
        }
      ]
    },
    {
      "cell_type": "code",
      "metadata": {
        "collapsed": true,
        "jupyter": {
          "outputs_hidden": true,
          "source_hidden": true
        },
        "id": "MrWDpjGXNkf_",
        "outputId": "4075ab90-f58b-4ce7-b555-5e13bfe6a1b9"
      },
      "source": [
        "final = []\n",
        "for i in range(train_data.shape[0]):\n",
        "    nex_data = train_data[i]\n",
        "    fi_data = nex_data[idex[i], :,:]\n",
        "    final.append(fi_data)\n",
        "len(final )   "
      ],
      "execution_count": null,
      "outputs": [
        {
          "data": {
            "text/plain": [
              "1046"
            ]
          },
          "execution_count": 14,
          "metadata": {},
          "output_type": "execute_result"
        }
      ]
    },
    {
      "cell_type": "code",
      "metadata": {
        "collapsed": true,
        "jupyter": {
          "outputs_hidden": true,
          "source_hidden": true
        },
        "id": "lC-or2cnNkf_",
        "outputId": "3507a7ce-7ab0-4d32-ffbc-74f9b9396fe3"
      },
      "source": [
        "final = np.array(final)\n",
        "final.shape"
      ],
      "execution_count": null,
      "outputs": [
        {
          "data": {
            "text/plain": [
              "(1046, 32, 128)"
            ]
          },
          "execution_count": 15,
          "metadata": {},
          "output_type": "execute_result"
        }
      ]
    },
    {
      "cell_type": "code",
      "metadata": {
        "collapsed": true,
        "jupyter": {
          "outputs_hidden": true,
          "source_hidden": true
        },
        "id": "nD6lBF9aNkgA",
        "outputId": "7b2b42ab-96d5-4496-eca2-0e1b009511f3"
      },
      "source": [
        "plt.imshow(final[1000])"
      ],
      "execution_count": null,
      "outputs": [
        {
          "data": {
            "text/plain": [
              "<matplotlib.image.AxesImage at 0x17a3e56c808>"
            ]
          },
          "execution_count": 21,
          "metadata": {},
          "output_type": "execute_result"
        },
        {
          "data": {
            "image/png": "[encoded data removed]",
            "text/plain": [
              "<Figure size 432x288 with 1 Axes>"
            ]
          },
          "metadata": {
            "needs_background": "light"
          },
          "output_type": "display_data"
        }
      ]
    },
    {
      "cell_type": "code",
      "metadata": {
        "collapsed": true,
        "jupyter": {
          "outputs_hidden": true,
          "source_hidden": true
        },
        "id": "-TZLVLNBNkgA",
        "outputId": "41f454da-992b-44c9-9d54-11b2aa5954cb"
      },
      "source": [
        "final.shape,Y_train.shape"
      ],
      "execution_count": null,
      "outputs": [
        {
          "data": {
            "text/plain": [
              "((1046, 32, 128), (1046, 1))"
            ]
          },
          "execution_count": 19,
          "metadata": {},
          "output_type": "execute_result"
        }
      ]
    },
    {
      "cell_type": "code",
      "metadata": {
        "id": "xVtV67jyNkgB",
        "outputId": "dd52042f-5c61-4b18-ce24-429976428c64"
      },
      "source": [
        "x = final.reshape(1046, 32*128)\n",
        "x.shape"
      ],
      "execution_count": null,
      "outputs": [
        {
          "data": {
            "text/plain": [
              "(1046, 4096)"
            ]
          },
          "execution_count": 26,
          "metadata": {},
          "output_type": "execute_result"
        }
      ]
    },
    {
      "cell_type": "code",
      "metadata": {
        "id": "QKGQrT6iNkgB"
      },
      "source": [
        "def leNet_model():\n",
        "    model = Sequential()\n",
        "    model.add(Conv2D(30, (5,5), input_shape =(32, 128,1), activation = 'relu' ))\n",
        "    model.add(MaxPooling2D(pool_size = (2,2)))\n",
        "    model.add(Conv2D(15,(3,3) ,activation= 'relu'))\n",
        "    model.add(MaxPooling2D(pool_size = (2,2)))\n",
        "    model.add(Flatten())\n",
        "    model.add(Dense(500 , activation = 'relu'))\n",
        "    model.add(Dropout(0.5))\n",
        "    \n",
        "    model.add(Dense(1, activation = 'sigmoid'))\n",
        "    model.compile(Adam(lr = 0.01), loss ='binary_crossentropy' , metrics = ['accuracy'])\n",
        "    return model"
      ],
      "execution_count": null,
      "outputs": []
    },
    {
      "cell_type": "code",
      "metadata": {
        "id": "-Lw8UQizNkgB"
      },
      "source": [
        "def MLP():\n",
        " \n",
        "    model = Sequential()\n",
        "    model.add(Dense( 1280 , input_dim = 1280, activation='relu'))\n",
        "    model.add(Dense(100, activation ='relu' ))\n",
        "    model.add(Dropout(0.5))   #### \n",
        "    model.add(Dense(10, activation ='relu' ))\n",
        "    model.add(Dropout(0.5)) \n",
        "    model.add(Dense(1 , activation='sigmoid'))\n",
        "    model.compile(Adam(lr=0.001), loss ='binary_crossentropy',metrics=['accuracy'])\n",
        "    return model"
      ],
      "execution_count": null,
      "outputs": []
    },
    {
      "cell_type": "code",
      "metadata": {
        "id": "aKEGbo0SNkgC",
        "outputId": "f17fe6dd-a5ba-4a1d-c4aa-8487dd3b3448"
      },
      "source": [
        "model1 =  MLP()\n",
        "model1.summary()"
      ],
      "execution_count": null,
      "outputs": [
        {
          "name": "stdout",
          "output_type": "stream",
          "text": [
            "Model: \"sequential_13\"\n",
            "_________________________________________________________________\n",
            "Layer (type)                 Output Shape              Param #   \n",
            "=================================================================\n",
            "dense_43 (Dense)             (None, 1280)              1639680   \n",
            "_________________________________________________________________\n",
            "dense_44 (Dense)             (None, 100)               128100    \n",
            "_________________________________________________________________\n",
            "dropout_20 (Dropout)         (None, 100)               0         \n",
            "_________________________________________________________________\n",
            "dense_45 (Dense)             (None, 10)                1010      \n",
            "_________________________________________________________________\n",
            "dropout_21 (Dropout)         (None, 10)                0         \n",
            "_________________________________________________________________\n",
            "dense_46 (Dense)             (None, 1)                 11        \n",
            "=================================================================\n",
            "Total params: 1,768,801\n",
            "Trainable params: 1,768,801\n",
            "Non-trainable params: 0\n",
            "_________________________________________________________________\n"
          ]
        }
      ]
    },
    {
      "cell_type": "code",
      "metadata": {
        "id": "AOhmYxPENkgC",
        "outputId": "3513ad4c-2a89-4011-e683-c4a84dbcaede"
      },
      "source": [
        "new_mat = final[:,0:10,:]\n",
        "new_mat.shape\n",
        "new_= new_mat.reshape(1046,10*128)\n",
        "new_.shape"
      ],
      "execution_count": null,
      "outputs": [
        {
          "data": {
            "text/plain": [
              "(1046, 1280)"
            ]
          },
          "execution_count": 132,
          "metadata": {},
          "output_type": "execute_result"
        }
      ]
    },
    {
      "cell_type": "code",
      "metadata": {
        "jupyter": {
          "outputs_hidden": true
        },
        "id": "4To9NuvZNkgD",
        "outputId": "f15656b7-b425-423c-c6d0-12de4705a55a"
      },
      "source": [
        "h2 = model1.fit(new_ ,Y_train , validation_split = 0.1 ,  epochs = 150 , verbose =1 , shuffle = 1)#validation_data=(Xt[0:350], Y_test[0:350])"
      ],
      "execution_count": null,
      "outputs": [
        {
          "name": "stdout",
          "output_type": "stream",
          "text": [
            "Train on 941 samples, validate on 105 samples\n",
            "Epoch 1/150\n",
            "941/941 [==============================] - 0s 338us/step - loss: 0.6923 - accuracy: 0.5260 - val_loss: 0.7237 - val_accuracy: 0.0000e+00\n",
            "Epoch 2/150\n",
            "941/941 [==============================] - 0s 156us/step - loss: 0.6877 - accuracy: 0.5505 - val_loss: 0.7814 - val_accuracy: 0.0000e+00\n",
            "Epoch 3/150\n",
            "941/941 [==============================] - 0s 148us/step - loss: 0.6880 - accuracy: 0.5367 - val_loss: 0.7847 - val_accuracy: 0.0000e+00\n",
            "Epoch 4/150\n",
            "941/941 [==============================] - 0s 147us/step - loss: 0.6935 - accuracy: 0.5430 - val_loss: 0.7471 - val_accuracy: 0.0000e+00\n",
            "Epoch 5/150\n",
            "941/941 [==============================] - 0s 146us/step - loss: 0.6896 - accuracy: 0.5547 - val_loss: 0.7426 - val_accuracy: 0.0000e+00\n",
            "Epoch 6/150\n",
            "941/941 [==============================] - 0s 145us/step - loss: 0.6889 - accuracy: 0.5569 - val_loss: 0.7631 - val_accuracy: 0.0000e+00\n",
            "Epoch 7/150\n",
            "941/941 [==============================] - 0s 147us/step - loss: 0.6880 - accuracy: 0.5558 - val_loss: 0.7698 - val_accuracy: 0.0000e+00\n",
            "Epoch 8/150\n",
            "941/941 [==============================] - 0s 146us/step - loss: 0.6883 - accuracy: 0.5558 - val_loss: 0.7743 - val_accuracy: 0.0000e+00\n",
            "Epoch 9/150\n",
            "941/941 [==============================] - 0s 146us/step - loss: 0.6879 - accuracy: 0.5558 - val_loss: 0.7709 - val_accuracy: 0.0000e+00\n",
            "Epoch 10/150\n",
            "941/941 [==============================] - 0s 147us/step - loss: 0.6876 - accuracy: 0.5558 - val_loss: 0.7697 - val_accuracy: 0.0000e+00\n",
            "Epoch 11/150\n",
            "941/941 [==============================] - 0s 150us/step - loss: 0.6862 - accuracy: 0.5558 - val_loss: 0.7894 - val_accuracy: 0.0000e+00\n",
            "Epoch 12/150\n",
            "941/941 [==============================] - 0s 154us/step - loss: 0.6877 - accuracy: 0.5558 - val_loss: 0.7900 - val_accuracy: 0.0000e+00\n",
            "Epoch 13/150\n",
            "941/941 [==============================] - 0s 155us/step - loss: 0.6860 - accuracy: 0.5558 - val_loss: 0.7973 - val_accuracy: 0.0000e+00\n",
            "Epoch 14/150\n",
            "941/941 [==============================] - 0s 159us/step - loss: 0.6886 - accuracy: 0.5558 - val_loss: 0.7814 - val_accuracy: 0.0000e+00\n",
            "Epoch 15/150\n",
            "941/941 [==============================] - 0s 163us/step - loss: 0.6835 - accuracy: 0.5558 - val_loss: 0.8314 - val_accuracy: 0.0000e+00\n",
            "Epoch 16/150\n",
            "941/941 [==============================] - 0s 155us/step - loss: 0.6881 - accuracy: 0.5569 - val_loss: 0.8146 - val_accuracy: 0.0000e+00\n",
            "Epoch 17/150\n",
            "941/941 [==============================] - 0s 154us/step - loss: 0.6855 - accuracy: 0.5558 - val_loss: 0.7945 - val_accuracy: 0.0000e+00\n",
            "Epoch 18/150\n",
            "941/941 [==============================] - 0s 157us/step - loss: 0.6887 - accuracy: 0.5558 - val_loss: 0.7790 - val_accuracy: 0.0000e+00\n",
            "Epoch 19/150\n",
            "941/941 [==============================] - 0s 160us/step - loss: 0.6884 - accuracy: 0.5547 - val_loss: 0.7751 - val_accuracy: 0.0000e+00\n",
            "Epoch 20/150\n",
            "941/941 [==============================] - 0s 158us/step - loss: 0.6857 - accuracy: 0.5558 - val_loss: 0.8141 - val_accuracy: 0.0000e+00\n",
            "Epoch 21/150\n",
            "941/941 [==============================] - 0s 156us/step - loss: 0.6871 - accuracy: 0.5547 - val_loss: 0.8057 - val_accuracy: 0.0000e+00\n",
            "Epoch 22/150\n",
            "941/941 [==============================] - 0s 161us/step - loss: 0.6843 - accuracy: 0.5558 - val_loss: 0.8154 - val_accuracy: 0.0000e+00\n",
            "Epoch 23/150\n",
            "941/941 [==============================] - 0s 152us/step - loss: 0.6865 - accuracy: 0.5558 - val_loss: 0.8136 - val_accuracy: 0.0000e+00\n",
            "Epoch 24/150\n",
            "941/941 [==============================] - 0s 155us/step - loss: 0.6826 - accuracy: 0.5558 - val_loss: 0.8485 - val_accuracy: 0.0000e+00\n",
            "Epoch 25/150\n",
            "941/941 [==============================] - 0s 153us/step - loss: 0.6856 - accuracy: 0.5558 - val_loss: 0.7974 - val_accuracy: 0.0000e+00\n",
            "Epoch 26/150\n",
            "941/941 [==============================] - 0s 166us/step - loss: 0.6857 - accuracy: 0.5558 - val_loss: 0.8144 - val_accuracy: 0.0000e+00\n",
            "Epoch 27/150\n",
            "941/941 [==============================] - 0s 169us/step - loss: 0.6832 - accuracy: 0.5558 - val_loss: 0.8308 - val_accuracy: 0.0000e+00\n",
            "Epoch 28/150\n",
            "941/941 [==============================] - 0s 163us/step - loss: 0.6841 - accuracy: 0.5558 - val_loss: 0.7949 - val_accuracy: 0.0000e+00\n",
            "Epoch 29/150\n",
            "941/941 [==============================] - 0s 159us/step - loss: 0.6829 - accuracy: 0.5558 - val_loss: 0.8326 - val_accuracy: 0.0000e+00\n",
            "Epoch 30/150\n",
            "941/941 [==============================] - 0s 158us/step - loss: 0.6795 - accuracy: 0.5558 - val_loss: 0.8218 - val_accuracy: 0.0000e+00\n",
            "Epoch 31/150\n",
            "941/941 [==============================] - 0s 157us/step - loss: 0.6834 - accuracy: 0.5558 - val_loss: 0.8486 - val_accuracy: 0.0000e+00\n",
            "Epoch 32/150\n",
            "941/941 [==============================] - 0s 174us/step - loss: 0.6826 - accuracy: 0.5558 - val_loss: 0.7843 - val_accuracy: 0.0000e+00\n",
            "Epoch 33/150\n",
            "941/941 [==============================] - 0s 158us/step - loss: 0.6774 - accuracy: 0.5547 - val_loss: 0.8670 - val_accuracy: 0.0000e+00\n",
            "Epoch 34/150\n",
            "941/941 [==============================] - 0s 170us/step - loss: 0.6807 - accuracy: 0.5675 - val_loss: 0.9158 - val_accuracy: 0.0000e+00\n",
            "Epoch 35/150\n",
            "941/941 [==============================] - 0s 161us/step - loss: 0.6796 - accuracy: 0.5728 - val_loss: 0.8219 - val_accuracy: 0.0000e+00\n",
            "Epoch 36/150\n",
            "941/941 [==============================] - 0s 168us/step - loss: 0.6790 - accuracy: 0.5728 - val_loss: 0.7780 - val_accuracy: 0.2000\n",
            "Epoch 37/150\n",
            "941/941 [==============================] - 0s 162us/step - loss: 0.6784 - accuracy: 0.5494 - val_loss: 0.7430 - val_accuracy: 0.3048\n",
            "Epoch 38/150\n",
            "941/941 [==============================] - 0s 159us/step - loss: 0.6760 - accuracy: 0.5462 - val_loss: 0.7719 - val_accuracy: 0.1333\n",
            "Epoch 39/150\n",
            "941/941 [==============================] - 0s 152us/step - loss: 0.6750 - accuracy: 0.5760 - val_loss: 0.8659 - val_accuracy: 0.0762\n",
            "Epoch 40/150\n",
            "941/941 [==============================] - 0s 146us/step - loss: 0.6792 - accuracy: 0.5590 - val_loss: 0.8458 - val_accuracy: 0.1143\n",
            "Epoch 41/150\n",
            "941/941 [==============================] - 0s 147us/step - loss: 0.6722 - accuracy: 0.5760 - val_loss: 0.8587 - val_accuracy: 0.1143\n",
            "Epoch 42/150\n",
            "941/941 [==============================] - 0s 151us/step - loss: 0.6702 - accuracy: 0.5877 - val_loss: 0.8944 - val_accuracy: 0.1143\n",
            "Epoch 43/150\n",
            "941/941 [==============================] - 0s 153us/step - loss: 0.6768 - accuracy: 0.5717 - val_loss: 0.7930 - val_accuracy: 0.3429\n",
            "Epoch 44/150\n",
            "941/941 [==============================] - 0s 154us/step - loss: 0.6703 - accuracy: 0.5813 - val_loss: 0.8364 - val_accuracy: 0.1810\n",
            "Epoch 45/150\n",
            "941/941 [==============================] - 0s 159us/step - loss: 0.6692 - accuracy: 0.5728 - val_loss: 0.7943 - val_accuracy: 0.4000\n",
            "Epoch 46/150\n",
            "941/941 [==============================] - 0s 148us/step - loss: 0.6631 - accuracy: 0.5855 - val_loss: 0.9512 - val_accuracy: 0.1429\n",
            "Epoch 47/150\n",
            "941/941 [==============================] - 0s 149us/step - loss: 0.6667 - accuracy: 0.6015 - val_loss: 0.8460 - val_accuracy: 0.2381\n",
            "Epoch 48/150\n",
            "941/941 [==============================] - 0s 150us/step - loss: 0.6637 - accuracy: 0.5962 - val_loss: 0.7599 - val_accuracy: 0.5333\n",
            "Epoch 49/150\n",
            "941/941 [==============================] - 0s 155us/step - loss: 0.6662 - accuracy: 0.5802 - val_loss: 0.8187 - val_accuracy: 0.3429\n",
            "Epoch 50/150\n",
            "941/941 [==============================] - 0s 154us/step - loss: 0.6557 - accuracy: 0.6015 - val_loss: 0.8260 - val_accuracy: 0.4190\n",
            "Epoch 51/150\n",
            "941/941 [==============================] - 0s 163us/step - loss: 0.6573 - accuracy: 0.6259 - val_loss: 0.8122 - val_accuracy: 0.4381\n",
            "Epoch 52/150\n",
            "941/941 [==============================] - 0s 162us/step - loss: 0.6539 - accuracy: 0.6089 - val_loss: 0.7960 - val_accuracy: 0.4571\n",
            "Epoch 53/150\n",
            "941/941 [==============================] - 0s 159us/step - loss: 0.6448 - accuracy: 0.6259 - val_loss: 1.0036 - val_accuracy: 0.1810\n",
            "Epoch 54/150\n",
            "941/941 [==============================] - 0s 155us/step - loss: 0.6625 - accuracy: 0.5792 - val_loss: 0.8639 - val_accuracy: 0.2286\n",
            "Epoch 55/150\n",
            "941/941 [==============================] - 0s 155us/step - loss: 0.6588 - accuracy: 0.6026 - val_loss: 0.7592 - val_accuracy: 0.5429\n",
            "Epoch 56/150\n",
            "941/941 [==============================] - 0s 153us/step - loss: 0.6466 - accuracy: 0.6334 - val_loss: 0.7188 - val_accuracy: 0.6095\n",
            "Epoch 57/150\n",
            "941/941 [==============================] - 0s 152us/step - loss: 0.6535 - accuracy: 0.6281 - val_loss: 0.8954 - val_accuracy: 0.3143\n",
            "Epoch 58/150\n",
            "941/941 [==============================] - 0s 153us/step - loss: 0.6450 - accuracy: 0.6206 - val_loss: 0.9628 - val_accuracy: 0.1810\n",
            "Epoch 59/150\n",
            "941/941 [==============================] - 0s 155us/step - loss: 0.6438 - accuracy: 0.6281 - val_loss: 0.9191 - val_accuracy: 0.2952\n",
            "Epoch 60/150\n",
            "941/941 [==============================] - ETA: 0s - loss: 0.6367 - accuracy: 0.64 - 0s 150us/step - loss: 0.6383 - accuracy: 0.6493 - val_loss: 0.8677 - val_accuracy: 0.3714\n",
            "Epoch 61/150\n",
            "941/941 [==============================] - 0s 149us/step - loss: 0.6340 - accuracy: 0.6525 - val_loss: 0.9055 - val_accuracy: 0.3238\n",
            "Epoch 62/150\n",
            "941/941 [==============================] - 0s 151us/step - loss: 0.6288 - accuracy: 0.6408 - val_loss: 0.8108 - val_accuracy: 0.4667\n",
            "Epoch 63/150\n",
            "941/941 [==============================] - 0s 158us/step - loss: 0.6285 - accuracy: 0.6578 - val_loss: 0.9444 - val_accuracy: 0.2476\n",
            "Epoch 64/150\n",
            "941/941 [==============================] - 0s 155us/step - loss: 0.6229 - accuracy: 0.6578 - val_loss: 0.8009 - val_accuracy: 0.5048\n",
            "Epoch 65/150\n",
            "941/941 [==============================] - 0s 161us/step - loss: 0.6106 - accuracy: 0.6791 - val_loss: 0.8695 - val_accuracy: 0.4286\n",
            "Epoch 66/150\n",
            "941/941 [==============================] - 0s 166us/step - loss: 0.6146 - accuracy: 0.6599 - val_loss: 0.9479 - val_accuracy: 0.3238\n",
            "Epoch 67/150\n",
            "941/941 [==============================] - 0s 163us/step - loss: 0.6110 - accuracy: 0.6801 - val_loss: 0.7969 - val_accuracy: 0.4857\n",
            "Epoch 68/150\n",
            "941/941 [==============================] - 0s 161us/step - loss: 0.6079 - accuracy: 0.6727 - val_loss: 1.0270 - val_accuracy: 0.1524\n",
            "Epoch 69/150\n",
            "941/941 [==============================] - 0s 163us/step - loss: 0.6036 - accuracy: 0.6812 - val_loss: 0.8372 - val_accuracy: 0.5143\n",
            "Epoch 70/150\n",
            "941/941 [==============================] - 0s 162us/step - loss: 0.5911 - accuracy: 0.7078 - val_loss: 0.9524 - val_accuracy: 0.3524\n",
            "Epoch 71/150\n",
            "941/941 [==============================] - 0s 158us/step - loss: 0.5999 - accuracy: 0.6918 - val_loss: 0.8683 - val_accuracy: 0.4952\n",
            "Epoch 72/150\n",
            "941/941 [==============================] - 0s 164us/step - loss: 0.6008 - accuracy: 0.6929 - val_loss: 1.0195 - val_accuracy: 0.1810\n",
            "Epoch 73/150\n",
            "941/941 [==============================] - 0s 159us/step - loss: 0.5839 - accuracy: 0.7131 - val_loss: 0.8147 - val_accuracy: 0.5143\n",
            "Epoch 74/150\n",
            "941/941 [==============================] - 0s 157us/step - loss: 0.5867 - accuracy: 0.7248 - val_loss: 0.8211 - val_accuracy: 0.4952\n",
            "Epoch 75/150\n",
            "941/941 [==============================] - 0s 164us/step - loss: 0.5720 - accuracy: 0.7163 - val_loss: 0.9327 - val_accuracy: 0.3905\n",
            "Epoch 76/150\n",
            "941/941 [==============================] - 0s 173us/step - loss: 0.5623 - accuracy: 0.7279 - val_loss: 0.9260 - val_accuracy: 0.4095\n",
            "Epoch 77/150\n",
            "941/941 [==============================] - 0s 161us/step - loss: 0.5555 - accuracy: 0.7279 - val_loss: 0.9336 - val_accuracy: 0.4381\n",
            "Epoch 78/150\n",
            "941/941 [==============================] - 0s 164us/step - loss: 0.5398 - accuracy: 0.7311 - val_loss: 0.8709 - val_accuracy: 0.4952\n",
            "Epoch 79/150\n",
            "941/941 [==============================] - 0s 159us/step - loss: 0.5443 - accuracy: 0.7418 - val_loss: 1.1755 - val_accuracy: 0.1619\n",
            "Epoch 80/150\n",
            "941/941 [==============================] - 0s 149us/step - loss: 0.5581 - accuracy: 0.7322 - val_loss: 1.0305 - val_accuracy: 0.2857\n",
            "Epoch 81/150\n",
            "941/941 [==============================] - 0s 153us/step - loss: 0.5393 - accuracy: 0.7311 - val_loss: 0.9373 - val_accuracy: 0.4000\n",
            "Epoch 82/150\n",
            "941/941 [==============================] - 0s 153us/step - loss: 0.5440 - accuracy: 0.7418 - val_loss: 1.1217 - val_accuracy: 0.2190\n",
            "Epoch 83/150\n",
            "941/941 [==============================] - 0s 149us/step - loss: 0.5410 - accuracy: 0.7620 - val_loss: 0.8953 - val_accuracy: 0.4381\n",
            "Epoch 84/150\n",
            "941/941 [==============================] - 0s 147us/step - loss: 0.5076 - accuracy: 0.7726 - val_loss: 0.9200 - val_accuracy: 0.4857\n",
            "Epoch 85/150\n",
            "941/941 [==============================] - 0s 153us/step - loss: 0.5240 - accuracy: 0.7471 - val_loss: 0.7867 - val_accuracy: 0.5810\n",
            "Epoch 86/150\n",
            "941/941 [==============================] - 0s 154us/step - loss: 0.5151 - accuracy: 0.7630 - val_loss: 0.8982 - val_accuracy: 0.4667\n",
            "Epoch 87/150\n",
            "941/941 [==============================] - 0s 151us/step - loss: 0.4975 - accuracy: 0.7736 - val_loss: 0.9910 - val_accuracy: 0.3905\n",
            "Epoch 88/150\n",
            "941/941 [==============================] - 0s 146us/step - loss: 0.4843 - accuracy: 0.7981 - val_loss: 1.0209 - val_accuracy: 0.4286\n",
            "Epoch 89/150\n",
            "941/941 [==============================] - 0s 149us/step - loss: 0.4783 - accuracy: 0.7779 - val_loss: 0.8890 - val_accuracy: 0.4952\n",
            "Epoch 90/150\n",
            "941/941 [==============================] - 0s 154us/step - loss: 0.4776 - accuracy: 0.7885 - val_loss: 1.1190 - val_accuracy: 0.3429\n",
            "Epoch 91/150\n",
            "941/941 [==============================] - 0s 151us/step - loss: 0.4641 - accuracy: 0.8140 - val_loss: 0.9509 - val_accuracy: 0.4381\n",
            "Epoch 92/150\n",
            "941/941 [==============================] - 0s 159us/step - loss: 0.4570 - accuracy: 0.8013 - val_loss: 0.8453 - val_accuracy: 0.5810\n",
            "Epoch 93/150\n",
            "941/941 [==============================] - 0s 161us/step - loss: 0.4543 - accuracy: 0.7917 - val_loss: 0.9470 - val_accuracy: 0.4762\n",
            "Epoch 94/150\n",
            "941/941 [==============================] - 0s 167us/step - loss: 0.4286 - accuracy: 0.8236 - val_loss: 1.1589 - val_accuracy: 0.3238\n",
            "Epoch 95/150\n",
            "941/941 [==============================] - 0s 158us/step - loss: 0.4433 - accuracy: 0.8278 - val_loss: 0.9640 - val_accuracy: 0.4952\n",
            "Epoch 96/150\n",
            "941/941 [==============================] - 0s 155us/step - loss: 0.4209 - accuracy: 0.8278 - val_loss: 1.0170 - val_accuracy: 0.4762\n",
            "Epoch 97/150\n",
            "941/941 [==============================] - 0s 157us/step - loss: 0.4077 - accuracy: 0.8395 - val_loss: 0.9238 - val_accuracy: 0.5619\n",
            "Epoch 98/150\n",
            "941/941 [==============================] - 0s 162us/step - loss: 0.4001 - accuracy: 0.8395 - val_loss: 1.2714 - val_accuracy: 0.2952\n",
            "Epoch 99/150\n",
            "941/941 [==============================] - 0s 161us/step - loss: 0.4049 - accuracy: 0.8417 - val_loss: 1.7307 - val_accuracy: 0.1714\n",
            "Epoch 100/150\n",
            "941/941 [==============================] - 0s 155us/step - loss: 0.4356 - accuracy: 0.8119 - val_loss: 1.3701 - val_accuracy: 0.2952\n",
            "Epoch 101/150\n",
            "941/941 [==============================] - 0s 154us/step - loss: 0.4086 - accuracy: 0.8236 - val_loss: 1.2588 - val_accuracy: 0.3524\n",
            "Epoch 102/150\n",
            "941/941 [==============================] - 0s 162us/step - loss: 0.3804 - accuracy: 0.8544 - val_loss: 1.5020 - val_accuracy: 0.2381\n",
            "Epoch 103/150\n",
            "941/941 [==============================] - 0s 167us/step - loss: 0.3801 - accuracy: 0.8629 - val_loss: 1.1545 - val_accuracy: 0.4286\n",
            "Epoch 104/150\n",
            "941/941 [==============================] - 0s 157us/step - loss: 0.3840 - accuracy: 0.8470 - val_loss: 1.4994 - val_accuracy: 0.2286\n",
            "Epoch 105/150\n",
            "941/941 [==============================] - 0s 147us/step - loss: 0.3539 - accuracy: 0.8735 - val_loss: 1.3431 - val_accuracy: 0.4190\n",
            "Epoch 106/150\n",
            "941/941 [==============================] - 0s 159us/step - loss: 0.3418 - accuracy: 0.8789 - val_loss: 1.1416 - val_accuracy: 0.4952\n",
            "Epoch 107/150\n",
            "941/941 [==============================] - 0s 166us/step - loss: 0.3511 - accuracy: 0.8650 - val_loss: 1.5331 - val_accuracy: 0.2667\n",
            "Epoch 108/150\n",
            "941/941 [==============================] - 0s 166us/step - loss: 0.3415 - accuracy: 0.8533 - val_loss: 1.1582 - val_accuracy: 0.5333\n",
            "Epoch 109/150\n",
            "941/941 [==============================] - 0s 158us/step - loss: 0.3285 - accuracy: 0.8714 - val_loss: 1.0622 - val_accuracy: 0.5619\n",
            "Epoch 110/150\n",
            "941/941 [==============================] - 0s 158us/step - loss: 0.3215 - accuracy: 0.8916 - val_loss: 1.6043 - val_accuracy: 0.2857\n",
            "Epoch 111/150\n",
            "941/941 [==============================] - 0s 162us/step - loss: 0.3356 - accuracy: 0.8778 - val_loss: 0.8782 - val_accuracy: 0.6000\n",
            "Epoch 112/150\n",
            "941/941 [==============================] - 0s 165us/step - loss: 0.3458 - accuracy: 0.8725 - val_loss: 1.1525 - val_accuracy: 0.5714\n",
            "Epoch 113/150\n",
            "941/941 [==============================] - 0s 166us/step - loss: 0.2916 - accuracy: 0.8905 - val_loss: 1.4067 - val_accuracy: 0.4381\n",
            "Epoch 114/150\n",
            "941/941 [==============================] - 0s 150us/step - loss: 0.2685 - accuracy: 0.9256 - val_loss: 1.5403 - val_accuracy: 0.4190\n",
            "Epoch 115/150\n",
            "941/941 [==============================] - 0s 159us/step - loss: 0.2679 - accuracy: 0.9160 - val_loss: 1.4504 - val_accuracy: 0.4381\n",
            "Epoch 116/150\n",
            "941/941 [==============================] - 0s 171us/step - loss: 0.2643 - accuracy: 0.9192 - val_loss: 1.4764 - val_accuracy: 0.4667\n",
            "Epoch 117/150\n",
            "941/941 [==============================] - 0s 156us/step - loss: 0.2675 - accuracy: 0.9001 - val_loss: 1.6383 - val_accuracy: 0.4381\n",
            "Epoch 118/150\n",
            "941/941 [==============================] - 0s 158us/step - loss: 0.2496 - accuracy: 0.9044 - val_loss: 1.4948 - val_accuracy: 0.4952\n",
            "Epoch 119/150\n",
            "941/941 [==============================] - 0s 157us/step - loss: 0.2454 - accuracy: 0.9203 - val_loss: 1.5352 - val_accuracy: 0.5143\n",
            "Epoch 120/150\n",
            "941/941 [==============================] - 0s 156us/step - loss: 0.2749 - accuracy: 0.8884 - val_loss: 1.7332 - val_accuracy: 0.3524\n",
            "Epoch 121/150\n",
            "941/941 [==============================] - 0s 153us/step - loss: 0.2650 - accuracy: 0.9054 - val_loss: 2.0166 - val_accuracy: 0.3048\n",
            "Epoch 122/150\n",
            "941/941 [==============================] - 0s 155us/step - loss: 0.2362 - accuracy: 0.9288 - val_loss: 1.9633 - val_accuracy: 0.3524\n",
            "Epoch 123/150\n",
            "941/941 [==============================] - 0s 153us/step - loss: 0.2127 - accuracy: 0.9330 - val_loss: 1.7799 - val_accuracy: 0.4190\n",
            "Epoch 124/150\n",
            "941/941 [==============================] - 0s 155us/step - loss: 0.1928 - accuracy: 0.9479 - val_loss: 1.7932 - val_accuracy: 0.5048\n",
            "Epoch 125/150\n",
            "941/941 [==============================] - 0s 161us/step - loss: 0.2033 - accuracy: 0.9384 - val_loss: 1.8571 - val_accuracy: 0.4381\n",
            "Epoch 126/150\n",
            "941/941 [==============================] - 0s 146us/step - loss: 0.1769 - accuracy: 0.9469 - val_loss: 1.8176 - val_accuracy: 0.5048\n",
            "Epoch 127/150\n",
            "941/941 [==============================] - 0s 148us/step - loss: 0.1979 - accuracy: 0.9437 - val_loss: 1.6131 - val_accuracy: 0.5429\n",
            "Epoch 128/150\n",
            "941/941 [==============================] - 0s 150us/step - loss: 0.1765 - accuracy: 0.9575 - val_loss: 1.7595 - val_accuracy: 0.5524\n",
            "Epoch 129/150\n",
            "941/941 [==============================] - 0s 154us/step - loss: 0.1882 - accuracy: 0.9479 - val_loss: 1.9290 - val_accuracy: 0.4000\n",
            "Epoch 130/150\n",
            "941/941 [==============================] - 0s 148us/step - loss: 0.1779 - accuracy: 0.9458 - val_loss: 2.4161 - val_accuracy: 0.3238\n",
            "Epoch 131/150\n",
            "941/941 [==============================] - 0s 150us/step - loss: 0.1746 - accuracy: 0.9416 - val_loss: 2.1504 - val_accuracy: 0.4476\n",
            "Epoch 132/150\n",
            "941/941 [==============================] - 0s 156us/step - loss: 0.1503 - accuracy: 0.9543 - val_loss: 2.3764 - val_accuracy: 0.3810\n",
            "Epoch 133/150\n",
            "941/941 [==============================] - 0s 163us/step - loss: 0.1673 - accuracy: 0.9447 - val_loss: 1.7849 - val_accuracy: 0.5143\n",
            "Epoch 134/150\n",
            "941/941 [==============================] - 0s 161us/step - loss: 0.1605 - accuracy: 0.9490 - val_loss: 2.0853 - val_accuracy: 0.4571\n",
            "Epoch 135/150\n",
            "941/941 [==============================] - 0s 158us/step - loss: 0.1698 - accuracy: 0.9490 - val_loss: 3.4619 - val_accuracy: 0.1810\n",
            "Epoch 136/150\n",
            "941/941 [==============================] - 0s 153us/step - loss: 0.1944 - accuracy: 0.9330 - val_loss: 2.4005 - val_accuracy: 0.4286\n",
            "Epoch 137/150\n",
            "941/941 [==============================] - 0s 157us/step - loss: 0.1447 - accuracy: 0.9628 - val_loss: 2.5672 - val_accuracy: 0.3905\n",
            "Epoch 138/150\n",
            "941/941 [==============================] - 0s 153us/step - loss: 0.1340 - accuracy: 0.9596 - val_loss: 2.2789 - val_accuracy: 0.4476\n",
            "Epoch 139/150\n",
            "941/941 [==============================] - 0s 157us/step - loss: 0.1165 - accuracy: 0.9681 - val_loss: 2.2696 - val_accuracy: 0.4952\n",
            "Epoch 140/150\n",
            "941/941 [==============================] - 0s 159us/step - loss: 0.1079 - accuracy: 0.9756 - val_loss: 1.8805 - val_accuracy: 0.5619\n",
            "Epoch 141/150\n",
            "941/941 [==============================] - 0s 158us/step - loss: 0.1117 - accuracy: 0.9639 - val_loss: 2.1735 - val_accuracy: 0.4952\n",
            "Epoch 142/150\n",
            "941/941 [==============================] - 0s 160us/step - loss: 0.1147 - accuracy: 0.9777 - val_loss: 2.4234 - val_accuracy: 0.5048\n",
            "Epoch 143/150\n",
            "941/941 [==============================] - 0s 159us/step - loss: 0.1442 - accuracy: 0.9554 - val_loss: 2.3747 - val_accuracy: 0.4381\n",
            "Epoch 144/150\n",
            "941/941 [==============================] - 0s 175us/step - loss: 0.1522 - accuracy: 0.9490 - val_loss: 2.9490 - val_accuracy: 0.3429\n",
            "Epoch 145/150\n",
            "941/941 [==============================] - 0s 153us/step - loss: 0.1363 - accuracy: 0.9586 - val_loss: 2.5907 - val_accuracy: 0.4190\n",
            "Epoch 146/150\n",
            "941/941 [==============================] - 0s 164us/step - loss: 0.1215 - accuracy: 0.9702 - val_loss: 2.9729 - val_accuracy: 0.3524\n",
            "Epoch 147/150\n",
            "941/941 [==============================] - 0s 166us/step - loss: 0.1169 - accuracy: 0.9639 - val_loss: 3.1098 - val_accuracy: 0.3238\n",
            "Epoch 148/150\n",
            "941/941 [==============================] - 0s 166us/step - loss: 0.1078 - accuracy: 0.9671 - val_loss: 3.1654 - val_accuracy: 0.3238\n",
            "Epoch 149/150\n",
            "941/941 [==============================] - 0s 160us/step - loss: 0.1041 - accuracy: 0.9777 - val_loss: 2.4555 - val_accuracy: 0.5238\n",
            "Epoch 150/150\n",
            "941/941 [==============================] - 0s 171us/step - loss: 0.0893 - accuracy: 0.9798 - val_loss: 3.4392 - val_accuracy: 0.2952\n"
          ]
        }
      ]
    },
    {
      "cell_type": "code",
      "metadata": {
        "id": "LYwiEfIINkgD"
      },
      "source": [],
      "execution_count": null,
      "outputs": []
    }
  ]
}